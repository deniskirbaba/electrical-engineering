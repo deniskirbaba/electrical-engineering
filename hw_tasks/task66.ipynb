{
  "nbformat": 4,
  "nbformat_minor": 0,
  "metadata": {
    "colab": {
      "provenance": []
    },
    "kernelspec": {
      "name": "python3",
      "display_name": "Python 3"
    },
    "language_info": {
      "name": "python"
    }
  },
  "cells": [
    {
      "cell_type": "code",
      "execution_count": 74,
      "metadata": {
        "id": "q6bmLJ8PB9-A"
      },
      "outputs": [],
      "source": [
        "from matplotlib import pyplot as plt\n",
        "import numpy as np"
      ]
    },
    {
      "cell_type": "code",
      "source": [
        "u_l = 159\n",
        "r_ab = 42\n",
        "r_bc = 22\n",
        "r_ca = 10\n",
        "x_bc = 14\n",
        "x_ca = 6\n",
        "\n",
        "u_ab = u_l\n",
        "u_bc = np.array([u_l * np.cos(-2*np.pi/3) + 1j * u_l * np.sin(-2 * np.pi / 3)])\n",
        "u_ca = np.array([u_l * np.cos(-4*np.pi/3) + 1j * u_l * np.sin(-4*np.pi/3)])\n",
        "\n",
        "z_ab = r_ab\n",
        "z_bc = r_bc + 1j * x_bc\n",
        "z_ca = r_ca - 1j * x_ca\n",
        "\n",
        "i_ab = u_ab / z_ab\n",
        "i_bc = u_bc / z_bc\n",
        "i_ca = u_ca / z_ca\n",
        "\n",
        "i_a = i_ab - i_ca\n",
        "i_b = i_bc - i_ab\n",
        "i_c = i_ca - i_bc\n",
        "\n",
        "q_ab = 0\n",
        "q_bc = np.absolute(i_bc)**2 * x_bc\n",
        "q_ca = -np.absolute(i_ca)**2 * x_ca\n",
        "\n",
        "q = q_ab + q_bc + q_ca"
      ],
      "metadata": {
        "id": "Uq5pQqBW6ijO"
      },
      "execution_count": 80,
      "outputs": []
    },
    {
      "cell_type": "code",
      "source": [
        "np.round(np.absolute(i_c), 2), np.round(q, 1)"
      ],
      "metadata": {
        "colab": {
          "base_uri": "https://localhost:8080/"
        },
        "id": "dlFIm-5e_X4W",
        "outputId": "37b4e8d4-5c6a-4a16-ff47-1d5fc01c9945"
      },
      "execution_count": 81,
      "outputs": [
        {
          "output_type": "execute_result",
          "data": {
            "text/plain": [
              "(array([11.47]), array([-594.8]))"
            ]
          },
          "metadata": {},
          "execution_count": 81
        }
      ]
    }
  ]
}